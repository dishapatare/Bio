{
 "cells": [
  {
   "cell_type": "markdown",
   "id": "718ce373",
   "metadata": {},
   "source": [
    "Name : Disha Patare<br>\n",
    "Roll No. : 42548<br>\n",
    "Branch : B.E AI&DS<br>\n",
    "Batch : B2<br>\n",
    "Computer Laboratory II : Bioinformatics"
   ]
  },
  {
   "cell_type": "markdown",
   "id": "7814d5db",
   "metadata": {},
   "source": [
    "Assignment 1 : DNA Sequence Analysis.<br>\n",
    "Task: Analyze a given DNA sequence and perform basic sequence manipulation, including finding motifs, calculating GC content, and identifying coding regions.<br>\n",
    "Deliverable: A report summarizing the analysis results and any insights gained from the sequence."
   ]
  },
  {
   "cell_type": "code",
   "execution_count": 1,
   "id": "617c6c44",
   "metadata": {
    "scrolled": true
   },
   "outputs": [
    {
     "name": "stdout",
     "output_type": "stream",
     "text": [
      "Requirement already satisfied: biopython in c:\\users\\hpcnd\\anaconda3\\lib\\site-packages (1.84)\n",
      "Requirement already satisfied: numpy in c:\\users\\hpcnd\\anaconda3\\lib\\site-packages (from biopython) (1.22.4)\n"
     ]
    }
   ],
   "source": [
    "!pip install biopython"
   ]
  },
  {
   "cell_type": "code",
   "execution_count": 2,
   "id": "c14948fc",
   "metadata": {},
   "outputs": [],
   "source": [
    "import Bio\n",
    "from Bio.Seq import Seq\n",
    "from Bio.SeqUtils import gc_fraction"
   ]
  },
  {
   "cell_type": "code",
   "execution_count": 3,
   "id": "a67132d9",
   "metadata": {},
   "outputs": [],
   "source": [
    "#Providing DNA sequence\n",
    "dna_sequence = \"AGTCAGTAGACTAGCTAGCTAGCTAGCTAGCTAGCTAGCTAGCTAGCTAGCTAGCTAGCTAGCTAGCTAGCTAGCTAGCTAGCTAGCTA\"\n",
    "\n",
    "# Creating a Seq object\n",
    "seq = Seq(dna_sequence)"
   ]
  },
  {
   "cell_type": "code",
   "execution_count": 4,
   "id": "e5901828",
   "metadata": {},
   "outputs": [],
   "source": [
    "#Function to find motifs in the sequence\n",
    "def find_motifs(sequence, motif):\n",
    "    positions = []\n",
    "    for i in range(len(sequence) - len(motif) + 1):\n",
    "        if sequence[i:i + len(motif)] == motif:\n",
    "            positions.append(i + 1)\n",
    "    return positions"
   ]
  },
  {
   "cell_type": "code",
   "execution_count": 5,
   "id": "71fe8983",
   "metadata": {},
   "outputs": [],
   "source": [
    "#Function to identify coding regions\n",
    "def identify_coding_regions(sequence):\n",
    "    start_codon = \"ATG\"\n",
    "    stop_codons = [\"TAA\", \"TAG\", \"TGA\"]\n",
    "    coding_regions = []\n",
    "    i = 0\n",
    "    \n",
    "    while i < len(sequence):\n",
    "        if sequence[i:i + 3] == start_codon:\n",
    "            start_index = i\n",
    "            i += 3\n",
    "            while i < len(sequence):\n",
    "                if sequence[i:i + 3] in stop_codons:\n",
    "                    stop_index = i + 3\n",
    "                    coding_regions.append((start_index + 1, stop_index)) \n",
    "                i += 3\n",
    "        else:\n",
    "            i += 1\n",
    "    \n",
    "    return coding_regions"
   ]
  },
  {
   "cell_type": "code",
   "execution_count": 6,
   "id": "d51e155b",
   "metadata": {},
   "outputs": [],
   "source": [
    "motif1 = \"AGCTAGCTA\"\n",
    "motif2 = \"CTAGCTAGC\"\n",
    "\n",
    "# Find positions of motif1\n",
    "motif1_positions = find_motifs(seq, motif1)\n",
    "\n",
    "# Find positions of motif2\n",
    "motif2_positions = find_motifs(seq, motif2)"
   ]
  },
  {
   "cell_type": "code",
   "execution_count": 7,
   "id": "decbdfb2",
   "metadata": {},
   "outputs": [],
   "source": [
    "# Calculate GC content\n",
    "gc_content = gc_fraction(seq)\n",
    "\n",
    "# Identify coding regions\n",
    "coding_regions = identify_coding_regions(seq)"
   ]
  },
  {
   "cell_type": "code",
   "execution_count": 8,
   "id": "18bcc94e",
   "metadata": {},
   "outputs": [
    {
     "name": "stdout",
     "output_type": "stream",
     "text": [
      "Analysis report generated as 'DNA_SEQUENCE_ANALYSIS.txt'\n"
     ]
    }
   ],
   "source": [
    "report = \"DNA Sequence Analysis Report\\n\\n\"\n",
    "report += f\"Provided DNA Sequence:\\n{seq}\\n\\n\"\n",
    "report += \"Analysis 1: Finding Motifs\\n\"\n",
    "report += f\"Motif 1 ({motif1}) found at positions: {motif1_positions}\\n\"\n",
    "report += f\"Motif 2 ({motif2}) found at positions: {motif2_positions}\\n\\n\"\n",
    "report += \"Analysis 2: Calculating GC Content\\n\"\n",
    "report += f\"GC Content: {gc_content:.2f}%\\n\\n\"\n",
    "report += \"Analysis 3: Identifying Coding Regions\\n\"\n",
    "\n",
    "if len(coding_regions) > 0:\n",
    "    report += \"Coding regions found:\\n\"\n",
    "    for start, stop in coding_regions:\n",
    "        report += f\"Start: {start} Stop: {stop}\\n\"\n",
    "else:\n",
    "    report += \"No coding regions found in the sequence.\\n\"\n",
    "\n",
    "with open(\"DNA_SEQUENCE_ANALYSIS.txt\", \"w\") as report_file:\n",
    "    report_file.write(report)\n",
    "\n",
    "print(\"Analysis report generated as 'DNA_SEQUENCE_ANALYSIS.txt'\")"
   ]
  },
  {
   "cell_type": "code",
   "execution_count": null,
   "id": "b8f6ab70",
   "metadata": {},
   "outputs": [],
   "source": []
  }
 ],
 "metadata": {
  "kernelspec": {
   "display_name": "Python 3 (ipykernel)",
   "language": "python",
   "name": "python3"
  },
  "language_info": {
   "codemirror_mode": {
    "name": "ipython",
    "version": 3
   },
   "file_extension": ".py",
   "mimetype": "text/x-python",
   "name": "python",
   "nbconvert_exporter": "python",
   "pygments_lexer": "ipython3",
   "version": "3.9.7"
  }
 },
 "nbformat": 4,
 "nbformat_minor": 5
}
