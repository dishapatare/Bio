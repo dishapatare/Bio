{
 "cells": [
  {
   "cell_type": "markdown",
   "id": "5b06d0d0",
   "metadata": {},
   "source": [
    "Name : Disha Patare<br>\n",
    "Roll No. : 42548<br>\n",
    "Branch : B.E AI&DS<br>\n",
    "Batch : B2<br>\n",
    "Computer Laboratory II : Bioinformatics"
   ]
  },
  {
   "cell_type": "markdown",
   "id": "33a9198d",
   "metadata": {},
   "source": [
    "Assignment 2 : RNA-Seq Data Analysis.<br>\n",
    "Task: Analyze a provided RNA-Seq dataset and perform differential gene expression analysis.<br>\n",
    "Deliverable: A detailed report presenting the differentially expressed genes, their functional annotations, and any potential biological interpretations"
   ]
  },
  {
   "cell_type": "code",
   "execution_count": 2,
   "id": "aa3e9257",
   "metadata": {},
   "outputs": [],
   "source": [
    "import pandas as pd \n",
    "import numpy as np \n",
    "from scipy.stats import ttest_ind \n",
    "from statsmodels.stats.multitest import multipletests"
   ]
  },
  {
   "cell_type": "code",
   "execution_count": 5,
   "id": "a93c4d42",
   "metadata": {},
   "outputs": [],
   "source": [
    "# Simulated RNA-Seq Data Generation\n",
    "np.random.seed(42)\n",
    "\n",
    "# Define the genes\n",
    "genes = [\"Gene1\", \"Gene2\", \"Gene3\", \"Gene4\"]\n",
    "\n",
    "# Generate counts for two samples\n",
    "sample1_counts = [np.random.poisson(lam=100, size=10) for _ in genes]  # 10 replicates for sample 1\n",
    "sample2_counts = [np.random.poisson(lam=80, size=10) for _ in genes]   # 10 replicates for sample 2\n",
    "\n",
    "# Create a DataFrame for counts\n",
    "data = pd.DataFrame({\n",
    "    \"Gene\": genes,\n",
    "    \"Sample1_Counts\": sample1_counts,\n",
    "    \"Sample2_Counts\": sample2_counts\n",
    "})"
   ]
  },
  {
   "cell_type": "code",
   "execution_count": 6,
   "id": "b6164ff8",
   "metadata": {},
   "outputs": [],
   "source": [
    "# Calculate mean counts for each gene\n",
    "data[\"Sample1_Mean\"] = [np.mean(counts) for counts in data[\"Sample1_Counts\"]]\n",
    "data[\"Sample2_Mean\"] = [np.mean(counts) for counts in data[\"Sample2_Counts\"]]\n",
    "\n",
    "# Differential Expression Analysis\n",
    "p_values = []\n",
    "for _, row in data.iterrows():\n",
    "    _, p_value = ttest_ind(row[\"Sample1_Counts\"], row[\"Sample2_Counts\"])\n",
    "    p_values.append(p_value)\n",
    "\n",
    "data[\"PValue\"] = p_values\n",
    "\n",
    "# Correct p-values for multiple testing (e.g., using FDR)\n",
    "data[\"AdjPValue\"] = multipletests(data[\"PValue\"], method='fdr_bh')[1]\n",
    "\n",
    "# Identify Differentially Expressed Genes\n",
    "differential_genes = data[data[\"AdjPValue\"] < 0.05]"
   ]
  },
  {
   "cell_type": "code",
   "execution_count": 7,
   "id": "2272cdb8",
   "metadata": {},
   "outputs": [],
   "source": [
    "# Simulated Gene Ontology terms for demonstration\n",
    "annotations = {\n",
    "    \"Gene1\": \"GO:0001234, GO:5678901\",\n",
    "    \"Gene2\": \"GO:2345678, GO:8901234\",\n",
    "    \"Gene3\": \"GO:1234567\",\n",
    "    \"Gene4\": \"GO:5678901, GO:2345678\"\n",
    "}\n",
    "\n",
    "# Functional annotations and Biological Interpretation\n",
    "differential_genes[\"GO_Annotations\"] = differential_genes[\"Gene\"].map(annotations)"
   ]
  },
  {
   "cell_type": "code",
   "execution_count": 10,
   "id": "d7bf51c2",
   "metadata": {},
   "outputs": [
    {
     "name": "stdout",
     "output_type": "stream",
     "text": [
      "Analysis report generated as 'RNA_SEQ_ANALYSIS.txt'.\n"
     ]
    }
   ],
   "source": [
    "# Initialize the report lines list\n",
    "report_lines = []\n",
    "\n",
    "# Add title and section headers\n",
    "report_lines.append(\"RNA-Seq Differential Expression Analysis Report\\n\")\n",
    "report_lines.append(\"=\" * 50)\n",
    "report_lines.append(\"Summary of Analysis:\\n\")\n",
    "report_lines.append(\"The analysis was conducted to identify differentially expressed genes between two conditions using RNA-Seq data.\\n\")\n",
    "report_lines.append(\"=\" * 50)\n",
    "\n",
    "report_lines.append(\"Differentially Expressed Genes:\\n\")\n",
    "if not differential_genes.empty:\n",
    "    # Add header for differentially expressed genes section\n",
    "    \n",
    "    report_lines.append(f\"{'Gene': <10} {'Mean Sample1':>15} {'Mean Sample2':>15} {'Adj P-Value':>15}\")\n",
    "    report_lines.append(\"-\" * 60)\n",
    "    for _, row in differential_genes.iterrows():\n",
    "        report_lines.append(f\"{row['Gene']: <10} {row['Sample1_Mean']:>15.2f} {row['Sample2_Mean']:>15.2f} {row['AdjPValue']:>15.4f}\")\n",
    "else:\n",
    "    report_lines.append(\"No genes were found to be differentially expressed.\\n\")\n",
    "\n",
    "# Add functional annotations section\n",
    "report_lines.append(\"=\" * 50)\n",
    "report_lines.append(\"Functional Annotations:\\n\")\n",
    "\n",
    "if not differential_genes.empty:\n",
    "    report_lines.append(f\"{'Gene': <10} {'GO Annotations':<30}\")\n",
    "    report_lines.append(\"=\" * 40)\n",
    "\n",
    "    for _, row in differential_genes.iterrows():\n",
    "        go_terms = row[\"GO_Annotations\"] if pd.notna(row[\"GO_Annotations\"]) else \"No annotations\"\n",
    "        report_lines.append(f\"{row['Gene']: <10} {go_terms:<30}\")\n",
    "else:\n",
    "    report_lines.append(\"No functional annotations available.\\n\")\n",
    "\n",
    "# Save the report to a file\n",
    "with open(\"RNA_SEQ_ANALYSIS.txt\", \"w\") as report_file:\n",
    "    report_file.write(\"\\n\".join(report_lines))\n",
    "\n",
    "print(\"Analysis report generated as 'RNA_SEQ_ANALYSIS.txt'.\")\n"
   ]
  },
  {
   "cell_type": "code",
   "execution_count": null,
   "id": "67633cd9",
   "metadata": {},
   "outputs": [],
   "source": []
  }
 ],
 "metadata": {
  "kernelspec": {
   "display_name": "Python 3 (ipykernel)",
   "language": "python",
   "name": "python3"
  },
  "language_info": {
   "codemirror_mode": {
    "name": "ipython",
    "version": 3
   },
   "file_extension": ".py",
   "mimetype": "text/x-python",
   "name": "python",
   "nbconvert_exporter": "python",
   "pygments_lexer": "ipython3",
   "version": "3.9.7"
  }
 },
 "nbformat": 4,
 "nbformat_minor": 5
}
